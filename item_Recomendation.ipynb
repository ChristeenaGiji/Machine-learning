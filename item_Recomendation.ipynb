{
  "nbformat": 4,
  "nbformat_minor": 0,
  "metadata": {
    "colab": {
      "provenance": [],
      "authorship_tag": "ABX9TyMCz2gqAhHLhEo81W5+ao4A",
      "include_colab_link": true
    },
    "kernelspec": {
      "name": "python3",
      "display_name": "Python 3"
    },
    "language_info": {
      "name": "python"
    }
  },
  "cells": [
    {
      "cell_type": "markdown",
      "metadata": {
        "id": "view-in-github",
        "colab_type": "text"
      },
      "source": [
        "<a href=\"https://colab.research.google.com/github/ChristeenaGiji/Machine-learning/blob/main/item_Recomendation.ipynb\" target=\"_parent\"><img src=\"https://colab.research.google.com/assets/colab-badge.svg\" alt=\"Open In Colab\"/></a>"
      ]
    },
    {
      "cell_type": "code",
      "execution_count": 3,
      "metadata": {
        "colab": {
          "base_uri": "https://localhost:8080/"
        },
        "id": "Hx3Q6bsNVrs5",
        "outputId": "df5ba6a8-f8f7-48db-d122-dab6669987ef"
      },
      "outputs": [
        {
          "output_type": "stream",
          "name": "stdout",
          "text": [
            "The dataset has 22 unique users\n",
            "The dataset has 98 unique items\n",
            "The dataset has 110 total interactions\n",
            "[('ES_All Night Dance - PW.mp3', 0.188609), ('ES_Pebble Beach - Peace Reels.mp3', 0.188609), ('ES_Purple Sunset - Heyson.mp3', 0.188609)]\n"
          ]
        }
      ],
      "source": [
        "# Data processing\n",
        "import pandas as pd\n",
        "import numpy as np\n",
        "import scipy.stats\n",
        "\n",
        "# Visualization\n",
        "import seaborn as sns\n",
        "\n",
        "# Similarity\n",
        "from sklearn.metrics.pairwise import cosine_similarity\n",
        "\n",
        "\n",
        "data=pd.read_csv('/content/results.csv')\n",
        "data.head()\n",
        "\n",
        "# Use 'creatorId' as 'userId' and 'ItemName' as 'item'\n",
        "data['item_count'] = 1  # Assuming each entry is one interaction\n",
        "\n",
        "# Aggregate by user and item\n",
        "user_item = data.groupby(['creatorId', 'itemName'], as_index=False).agg({'item_count': 'sum'})\n",
        "\n",
        "# Number of users\n",
        "print('The dataset has', user_item['creatorId'].nunique(), 'unique users')\n",
        "\n",
        "# Number of items\n",
        "print('The dataset has', user_item['itemName'].nunique(), 'unique items')\n",
        "\n",
        "# Number of interactions\n",
        "print('The dataset has', user_item['item_count'].sum(), 'total interactions')\n",
        "\n",
        "# Create user-item matrix\n",
        "matrix = user_item.pivot_table(index='itemName', columns='creatorId', values='item_count', fill_value=0)\n",
        "\n",
        "# Normalize the user-item matrix\n",
        "matrix_norm = matrix.subtract(matrix.mean(axis=1), axis=0)\n",
        "\n",
        "# Item similarity matrix using cosine similarity\n",
        "item_similarity_cosine = cosine_similarity(matrix_norm)\n",
        "item_similarity_df_cosine = pd.DataFrame(item_similarity_cosine, index=matrix_norm.index, columns=matrix_norm.index)\n",
        "\n",
        "def item_based_rec_cosine(picked_userid, number_of_similar_items=5, number_of_recommendations=3):\n",
        "    # Items that the user has not interacted with (use original matrix before normalization)\n",
        "    picked_userid_unwatched = pd.DataFrame(matrix[picked_userid] == 0).reset_index()\n",
        "    picked_userid_unwatched = picked_userid_unwatched[picked_userid_unwatched[picked_userid]==True]['itemName'].values.tolist()\n",
        "\n",
        "    # Items that the user has interacted with (use normalized matrix)\n",
        "    picked_userid_watched = pd.DataFrame(matrix_norm[picked_userid].dropna(axis=0, how='all')\\\n",
        "                          .sort_values(ascending=False)).reset_index().rename(columns={picked_userid: 'rating'})\n",
        "\n",
        "    # Dictionary to save unwatched items and predicted rating pair\n",
        "    rating_prediction = {}\n",
        "\n",
        "    # Loop through unwatched items\n",
        "    for picked_item in picked_userid_unwatched:\n",
        "        # Calculate the similarity score of the picked item with other items (using cosine similarity)\n",
        "        picked_item_similarity_score = item_similarity_df_cosine[[picked_item]].reset_index().rename(columns={picked_item: 'similarity_score'})\n",
        "\n",
        "        # Rank the similarities between the user's watched items and the picked unwatched item\n",
        "        picked_userid_watched_similarity = pd.merge(left=picked_userid_watched, right=picked_item_similarity_score, on='itemName', how='inner')\\\n",
        "                                              .sort_values('similarity_score', ascending=False)[:number_of_similar_items]\n",
        "\n",
        "        # Calculate the predicted rating\n",
        "        if np.sum(picked_userid_watched_similarity['similarity_score']) == 0:\n",
        "            predicted_rating = 0  # Default rating if no similarity\n",
        "        else:\n",
        "            predicted_rating = round(np.average(picked_userid_watched_similarity['rating'],\n",
        "                                                weights=picked_userid_watched_similarity['similarity_score']), 6)\n",
        "\n",
        "        # Save the predicted rating\n",
        "        rating_prediction[picked_item] = predicted_rating\n",
        "\n",
        "    # Return the top recommendations\n",
        "    return sorted(rating_prediction.items(), key=lambda x: x[1], reverse=True)[:number_of_recommendations]\n",
        "\n",
        "\n",
        "# Get recommendations for a specific user\n",
        "recommended_items = item_based_rec_cosine(picked_userid='abc@xyz.com', number_of_similar_items=5, number_of_recommendations=3)\n",
        "print(recommended_items)\n",
        "\n",
        "\n"
      ]
    },
    {
      "cell_type": "code",
      "source": [],
      "metadata": {
        "id": "9NrOCiMnYpFw"
      },
      "execution_count": null,
      "outputs": []
    }
  ]
}